{
 "cells": [
  {
   "cell_type": "code",
   "execution_count": 3,
   "metadata": {},
   "outputs": [],
   "source": [
    "import cv2\n",
    "import numpy as np\n",
    "import matplotlib.pyplot as plt\n",
    "from PIL import Image"
   ]
  },
  {
   "cell_type": "code",
   "execution_count": 8,
   "metadata": {},
   "outputs": [
    {
     "ename": "Exception",
     "evalue": "File `'helpers.py'` not found.",
     "output_type": "error",
     "traceback": [
      "\u001b[1;31m---------------------------------------------------------------------------\u001b[0m",
      "\u001b[1;31mOSError\u001b[0m                                   Traceback (most recent call last)",
      "File \u001b[1;32mc:\\Users\\Lenovo\\AppData\\Local\\Programs\\Python\\Python310\\lib\\site-packages\\IPython\\core\\magics\\execution.py:696\u001b[0m, in \u001b[0;36mExecutionMagics.run\u001b[1;34m(self, parameter_s, runner, file_finder)\u001b[0m\n\u001b[0;32m    695\u001b[0m     fpath \u001b[39m=\u001b[39m arg_lst[\u001b[39m0\u001b[39m]\n\u001b[1;32m--> 696\u001b[0m     filename \u001b[39m=\u001b[39m file_finder(fpath)\n\u001b[0;32m    697\u001b[0m \u001b[39mexcept\u001b[39;00m \u001b[39mIndexError\u001b[39;00m \u001b[39mas\u001b[39;00m e:\n",
      "File \u001b[1;32mc:\\Users\\Lenovo\\AppData\\Local\\Programs\\Python\\Python310\\lib\\site-packages\\IPython\\utils\\path.py:91\u001b[0m, in \u001b[0;36mget_py_filename\u001b[1;34m(name)\u001b[0m\n\u001b[0;32m     90\u001b[0m \u001b[39melse\u001b[39;00m:\n\u001b[1;32m---> 91\u001b[0m     \u001b[39mraise\u001b[39;00m \u001b[39mIOError\u001b[39;00m(\u001b[39m'\u001b[39m\u001b[39mFile `\u001b[39m\u001b[39m%r\u001b[39;00m\u001b[39m` not found.\u001b[39m\u001b[39m'\u001b[39m \u001b[39m%\u001b[39m name)\n",
      "\u001b[1;31mOSError\u001b[0m: File `'helpers.py'` not found.",
      "\nThe above exception was the direct cause of the following exception:\n",
      "\u001b[1;31mException\u001b[0m                                 Traceback (most recent call last)",
      "\u001b[1;32mc:\\Users\\Lenovo\\Documents\\Day12_Lab.ipynb Cell 2\u001b[0m in \u001b[0;36m<cell line: 1>\u001b[1;34m()\u001b[0m\n\u001b[1;32m----> <a href='vscode-notebook-cell:/c%3A/Users/Lenovo/Documents/Day12_Lab.ipynb#ch0000001?line=0'>1</a>\u001b[0m get_ipython()\u001b[39m.\u001b[39;49mrun_line_magic(\u001b[39m'\u001b[39;49m\u001b[39mrun\u001b[39;49m\u001b[39m'\u001b[39;49m, \u001b[39m'\u001b[39;49m\u001b[39mhelpers.py\u001b[39;49m\u001b[39m'\u001b[39;49m)\n\u001b[0;32m      <a href='vscode-notebook-cell:/c%3A/Users/Lenovo/Documents/Day12_Lab.ipynb#ch0000001?line=1'>2</a>\u001b[0m image \u001b[39m=\u001b[39m cv2\u001b[39m.\u001b[39mimread(\u001b[39m'\u001b[39m\u001b[39mC:\u001b[39m\u001b[39m\\\\\u001b[39;00m\u001b[39mUsers\u001b[39m\u001b[39m\\\\\u001b[39;00m\u001b[39mLenovo\u001b[39m\u001b[39m\\\\\u001b[39;00m\u001b[39mDesktop\u001b[39m\u001b[39m\\\\\u001b[39;00m\u001b[39msolidWhiteCurve.jpg\u001b[39m\u001b[39m'\u001b[39m)\n\u001b[0;32m      <a href='vscode-notebook-cell:/c%3A/Users/Lenovo/Documents/Day12_Lab.ipynb#ch0000001?line=2'>3</a>\u001b[0m image \u001b[39m=\u001b[39m cv2\u001b[39m.\u001b[39mcvtColor(image, cv2\u001b[39m.\u001b[39mCOLOR_BGR2RGB)\n",
      "File \u001b[1;32mc:\\Users\\Lenovo\\AppData\\Local\\Programs\\Python\\Python310\\lib\\site-packages\\IPython\\core\\interactiveshell.py:2305\u001b[0m, in \u001b[0;36mInteractiveShell.run_line_magic\u001b[1;34m(self, magic_name, line, _stack_depth)\u001b[0m\n\u001b[0;32m   2303\u001b[0m     kwargs[\u001b[39m'\u001b[39m\u001b[39mlocal_ns\u001b[39m\u001b[39m'\u001b[39m] \u001b[39m=\u001b[39m \u001b[39mself\u001b[39m\u001b[39m.\u001b[39mget_local_scope(stack_depth)\n\u001b[0;32m   2304\u001b[0m \u001b[39mwith\u001b[39;00m \u001b[39mself\u001b[39m\u001b[39m.\u001b[39mbuiltin_trap:\n\u001b[1;32m-> 2305\u001b[0m     result \u001b[39m=\u001b[39m fn(\u001b[39m*\u001b[39margs, \u001b[39m*\u001b[39m\u001b[39m*\u001b[39mkwargs)\n\u001b[0;32m   2306\u001b[0m \u001b[39mreturn\u001b[39;00m result\n",
      "File \u001b[1;32mc:\\Users\\Lenovo\\AppData\\Local\\Programs\\Python\\Python310\\lib\\site-packages\\IPython\\core\\magics\\execution.py:707\u001b[0m, in \u001b[0;36mExecutionMagics.run\u001b[1;34m(self, parameter_s, runner, file_finder)\u001b[0m\n\u001b[0;32m    705\u001b[0m     \u001b[39mif\u001b[39;00m os\u001b[39m.\u001b[39mname \u001b[39m==\u001b[39m \u001b[39m'\u001b[39m\u001b[39mnt\u001b[39m\u001b[39m'\u001b[39m \u001b[39mand\u001b[39;00m re\u001b[39m.\u001b[39mmatch(\u001b[39mr\u001b[39m\u001b[39m\"\u001b[39m\u001b[39m^\u001b[39m\u001b[39m'\u001b[39m\u001b[39m.*\u001b[39m\u001b[39m'\u001b[39m\u001b[39m$\u001b[39m\u001b[39m\"\u001b[39m,fpath):\n\u001b[0;32m    706\u001b[0m         warn(\u001b[39m'\u001b[39m\u001b[39mFor Windows, use double quotes to wrap a filename: \u001b[39m\u001b[39m%r\u001b[39;00m\u001b[39mun \u001b[39m\u001b[39m\"\u001b[39m\u001b[39mmypath\u001b[39m\u001b[39m\\\\\u001b[39;00m\u001b[39mmyfile.py\u001b[39m\u001b[39m\"\u001b[39m\u001b[39m'\u001b[39m)\n\u001b[1;32m--> 707\u001b[0m     \u001b[39mraise\u001b[39;00m \u001b[39mException\u001b[39;00m(msg) \u001b[39mfrom\u001b[39;00m \u001b[39me\u001b[39;00m\n\u001b[0;32m    708\u001b[0m \u001b[39mexcept\u001b[39;00m \u001b[39mTypeError\u001b[39;00m:\n\u001b[0;32m    709\u001b[0m     \u001b[39mif\u001b[39;00m fpath \u001b[39min\u001b[39;00m sys\u001b[39m.\u001b[39mmeta_path:\n",
      "\u001b[1;31mException\u001b[0m: File `'helpers.py'` not found."
     ]
    }
   ],
   "source": [
    "%run helpers.py\n",
    "image = cv2.imread('C:\\\\Users\\\\Lenovo\\\\Desktop\\\\solidWhiteCurve.jpg')\n",
    "image = cv2.cvtColor(image, cv2.COLOR_BGR2RGB)\n",
    "plt.imshow(image) "
   ]
  },
  {
   "cell_type": "code",
   "execution_count": null,
   "metadata": {},
   "outputs": [],
   "source": [
    "# Same pipeline again. More on Canny and Hough\n",
    "\n",
    "CANNY_THRESHOLD_1 = 40  # try: 50 - 100      # Typical: 50\n",
    "CANNY_THRESHOLD_2 = 50 # try: 100 - 200     # Typical: 150\n",
    "def canny_edges(gray): # https://docs.opencv.org/3.4/d7/de1/tutorial_js_canny.html\n",
    "    kernel_size = 5 #kernel size for Gaussian smoothing / blurring\n",
    "    blur_gray= cv2.GaussianBlur(gray, (kernel_size, kernel_size), 0)#Gaussian smoothing / blurring\n",
    "\n",
    "    # finding edges - Canny Edge detection (strong gradient between adjacent pixels)\n",
    "    edges = cv2.Canny(blur_gray, CANNY_THRESHOLD_1, CANNY_THRESHOLD_2)\n",
    "    return(edges)\n",
    "\n",
    "\n",
    "#HOUGH LINES PARAMETERS\n",
    "RHO = 1                 # try: 1 - 4 (0.5 increments)  \n",
    "THETA = np.pi/180       # Usually this is Ok\n",
    "MIN_VOTES = 10          # try: 10 - 50                  # Typical: 30\n",
    "MIN_LINE_LEN = 5 \n",
    "MAX_LINE_GAP = 25 \n",
    "\n",
    "def hough_lines(img):\n",
    "    lines = cv2.HoughLinesP(img, RHO, THETA, MIN_VOTES, np.array([]), minLineLength=MIN_LINE_LEN, maxLineGap=MAX_LINE_GAP)\n",
    "    return lines\n",
    "\n",
    "# Read the image:\n",
    "image = cv2.imread('test_images/solidWhiteCurve.jpg') #read in\n",
    "image = cv2.cvtColor(image, cv2.COLOR_BGR2RGB)\n",
    "\n",
    "gray_img = cv2.cvtColor(image, cv2.COLOR_RGB2GRAY)#grayscale conversion\n",
    "\n",
    "# 5.   Get the edges (Canny)\n",
    "edges_img = canny_edges(gray_img)\n",
    "\n",
    "# 6.   Remove unwanted parts of the image (too many edges) ROI\n",
    "ROI_edges_img = helpers_masked_edges(edges_img)\n",
    "\n",
    "# 7.   Get the lines (from edges - Hough lines)\n",
    "lines = hough_lines(ROI_edges_img)\n",
    "hough_lines_image = helpers_draw_lines(lines, ROI_edges_img)\n",
    "\n",
    "# 8.   Formulate 2 lane lines\n",
    "lanes = helpers_formulate_lanes(lines, ROI_edges_img)\n",
    "print(lines.shape)\n",
    "print(lanes.shape)\n",
    "\n",
    "# 9.   Create an image with those 2 lines\n",
    "lanes_image = helpers_draw_lines(lanes, ROI_edges_img)\n",
    "\n",
    "#lanes_image = np.zeros((ROI_edges_img.shape[0], ROI_edges_img.shape[1], 3), dtype=np.uint8)\n",
    "#draw_lines(lanes_image, lines)\n",
    "\n",
    "\n",
    "# 10.   Combine the orginal frame with the 2 lines\n",
    "final_image = cv2.addWeighted(image, 0.8, lanes_image, 1, 0) \n",
    "\n",
    "\n",
    "# Now disply the different steps\n",
    "fig, (  (image_plt, gray_plt), \n",
    "        (edges_plt, ROI_edges_plt), \n",
    "        (hough_lines_image_plt, lanes_image_plt),\n",
    "        (finale_image_plt, finale_image_plt_2)) = plt.subplots(4, 2, figsize=(20, 20))\n",
    "\n",
    "image_plt.imshow(image)\n",
    "image_plt.set_title('Original')\n",
    "gray_plt.imshow(gray_img, cmap='gray')\n",
    "gray_plt.set_title('Gray')\n",
    "\n",
    "edges_plt.imshow(edges_img)\n",
    "edges_plt.set_title('Edges')\n",
    "ROI_edges_plt.imshow(ROI_edges_img)\n",
    "ROI_edges_plt.set_title('ROI Edges')\n",
    "\n",
    "hough_lines_image_plt.imshow(hough_lines_image)\n",
    "hough_lines_image_plt.set_title('Lines from Hough')\n",
    "lanes_image_plt.imshow(lanes_image)\n",
    "lanes_image_plt.set_title('Lanes - 2 lines')\n",
    "\n",
    "finale_image_plt.imshow(final_image)\n",
    "finale_image_plt.set_title('Fianl Image')\n",
    "\n",
    "finale_image_plt_2.imshow(final_image)\n",
    "finale_image_plt_2.set_title('Fianl Image')\n",
    "\n",
    "fig.suptitle('Lane lines pipeline')\n",
    "\n",
    "plt.show()"
   ]
  }
 ],
 "metadata": {
  "kernelspec": {
   "display_name": "Python 3.10.4 64-bit",
   "language": "python",
   "name": "python3"
  },
  "language_info": {
   "codemirror_mode": {
    "name": "ipython",
    "version": 3
   },
   "file_extension": ".py",
   "mimetype": "text/x-python",
   "name": "python",
   "nbconvert_exporter": "python",
   "pygments_lexer": "ipython3",
   "version": "3.10.4"
  },
  "orig_nbformat": 4,
  "vscode": {
   "interpreter": {
    "hash": "8c3d4d9970fc5c09c50d9318a9c7fbf4d0159e4b28833276f5678ee22bded273"
   }
  }
 },
 "nbformat": 4,
 "nbformat_minor": 2
}
